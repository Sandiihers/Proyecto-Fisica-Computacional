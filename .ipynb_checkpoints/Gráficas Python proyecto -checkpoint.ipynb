{
 "cells": [
  {
   "cell_type": "code",
   "execution_count": 58,
   "metadata": {},
   "outputs": [],
   "source": [
    "from pylab import *\n",
    "from scipy.integrate import *\n",
    "from mpl_toolkits.mplot3d import Axes3D # modulo para graficar en 3 dimensiones\n",
    "from matplotlib import cm\n",
    "%matplotlib inline"
   ]
  },
  {
   "cell_type": "code",
   "execution_count": 59,
   "metadata": {},
   "outputs": [],
   "source": [
    "def RK_2(edo,x_ini,t):\n",
    "    sol = zeros( (len(t) , len(x_ini)) )\n",
    "    sol[0,:] = x_ini\n",
    "    delta = t[1]-t[0]\n",
    "    for i in range(0,len(t)-1):\n",
    "        k1 = sol[i,:] + 0.5*delta*edo(sol[i,:],t[i])\n",
    "        sol[i+1,:] = sol[i,:] + delta*edo(k1,t[i]+0.5*delta)\n",
    "    return sol"
   ]
  },
  {
   "cell_type": "markdown",
   "metadata": {},
   "source": [
    "$$\n",
    "\\frac{d\\theta}{dt}=v_{\\theta}\n",
    "$$\n",
    "\n",
    "$$\n",
    "\\frac{d\\varphi}{dt}=v_{\\varphi}\n",
    "$$\n",
    "\n",
    "$$\n",
    "\\frac{dv_{\\theta}}{dt}=v_{\\varphi}^2cos\\theta sin\\theta-\\frac{g}{l}sin\\theta\n",
    "$$\n",
    "\n",
    "$$\n",
    "\\frac{dv_{\\varphi}}{dt}=-2v_{\\theta}v_{\\varphi}cot\\theta\n",
    "$$"
   ]
  },
  {
   "cell_type": "code",
   "execution_count": 60,
   "metadata": {},
   "outputs": [],
   "source": [
    "def pendulo_esferico(x,t):\n",
    "    #𝜃 , 𝜑 ,v𝜃 ,v𝜑,\n",
    "    #0 , 1 , 2 , 3\n",
    "    l=1\n",
    "    g=9.8\n",
    "    w=g/l\n",
    "    dtheta=x[2]\n",
    "    dphi=x[3]\n",
    "    dvtheta=(x[3]**2)*cos(x[0])*sin(x[0])-(w)*sin(x[0])\n",
    "    dvphi=-2*x[2]*x[3]/tan(x[0])\n",
    "    return array([dtheta,dphi,dvtheta,dvphi])\n"
   ]
  },
  {
   "cell_type": "code",
   "execution_count": 61,
   "metadata": {},
   "outputs": [
    {
     "name": "stderr",
     "output_type": "stream",
     "text": [
      "<ipython-input-60-16b4d7ddded8>:9: RuntimeWarning: overflow encountered in double_scalars\n",
      "  dvtheta=(x[3]**2)*cos(x[0])*sin(x[0])-(w)*sin(x[0])\n",
      "<ipython-input-60-16b4d7ddded8>:10: RuntimeWarning: overflow encountered in double_scalars\n",
      "  dvphi=-2*x[2]*x[3]/tan(x[0])\n",
      "<ipython-input-60-16b4d7ddded8>:9: RuntimeWarning: invalid value encountered in cos\n",
      "  dvtheta=(x[3]**2)*cos(x[0])*sin(x[0])-(w)*sin(x[0])\n",
      "<ipython-input-60-16b4d7ddded8>:9: RuntimeWarning: invalid value encountered in sin\n",
      "  dvtheta=(x[3]**2)*cos(x[0])*sin(x[0])-(w)*sin(x[0])\n",
      "<ipython-input-60-16b4d7ddded8>:10: RuntimeWarning: invalid value encountered in tan\n",
      "  dvphi=-2*x[2]*x[3]/tan(x[0])\n",
      "<ipython-input-59-b4eefdbadd6a>:6: RuntimeWarning: invalid value encountered in add\n",
      "  k1 = sol[i,:] + 0.5*delta*edo(sol[i,:],t[i])\n"
     ]
    }
   ],
   "source": [
    "tiempo = arange(0,5*pi,0.05)\n",
    "cond_ini=[pi/4,pi,1,1]\n",
    "sol_num = RK_2(pendulo_esferico,cond_ini,tiempo)"
   ]
  },
  {
   "cell_type": "code",
   "execution_count": 62,
   "metadata": {},
   "outputs": [
    {
     "ename": "NameError",
     "evalue": "name 'pendulo' is not defined",
     "output_type": "error",
     "traceback": [
      "\u001b[1;31m---------------------------------------------------------------------------\u001b[0m",
      "\u001b[1;31mNameError\u001b[0m                                 Traceback (most recent call last)",
      "\u001b[1;32m<ipython-input-62-87cda59eb061>\u001b[0m in \u001b[0;36m<module>\u001b[1;34m\u001b[0m\n\u001b[0;32m      3\u001b[0m \u001b[0mth_ini_s\u001b[0m \u001b[1;33m=\u001b[0m \u001b[0marange\u001b[0m\u001b[1;33m(\u001b[0m\u001b[1;36m0.1\u001b[0m\u001b[1;33m,\u001b[0m\u001b[0mpi\u001b[0m\u001b[1;33m-\u001b[0m\u001b[1;36m0.1\u001b[0m\u001b[1;33m,\u001b[0m\u001b[1;36m0.25\u001b[0m\u001b[1;33m)\u001b[0m\u001b[1;33m\u001b[0m\u001b[1;33m\u001b[0m\u001b[0m\n\u001b[0;32m      4\u001b[0m \u001b[1;32mfor\u001b[0m \u001b[0mth_ini\u001b[0m \u001b[1;32min\u001b[0m \u001b[0mth_ini_s\u001b[0m\u001b[1;33m:\u001b[0m\u001b[1;33m\u001b[0m\u001b[1;33m\u001b[0m\u001b[0m\n\u001b[1;32m----> 5\u001b[1;33m     \u001b[0msol_num\u001b[0m \u001b[1;33m=\u001b[0m \u001b[0mRK_2\u001b[0m\u001b[1;33m(\u001b[0m\u001b[0mpendulo\u001b[0m\u001b[1;33m,\u001b[0m\u001b[1;33m[\u001b[0m\u001b[0mth_ini\u001b[0m\u001b[1;33m,\u001b[0m\u001b[1;36m0\u001b[0m\u001b[1;33m]\u001b[0m\u001b[1;33m,\u001b[0m\u001b[0mtiempo\u001b[0m\u001b[1;33m)\u001b[0m\u001b[1;33m\u001b[0m\u001b[1;33m\u001b[0m\u001b[0m\n\u001b[0m\u001b[0;32m      6\u001b[0m     \u001b[0mplot\u001b[0m\u001b[1;33m(\u001b[0m\u001b[0msol_num\u001b[0m\u001b[1;33m[\u001b[0m\u001b[1;33m:\u001b[0m\u001b[1;33m,\u001b[0m\u001b[1;36m0\u001b[0m\u001b[1;33m]\u001b[0m\u001b[1;33m,\u001b[0m\u001b[0msol_num\u001b[0m\u001b[1;33m[\u001b[0m\u001b[1;33m:\u001b[0m\u001b[1;33m,\u001b[0m\u001b[1;36m2\u001b[0m\u001b[1;33m]\u001b[0m\u001b[1;33m)\u001b[0m\u001b[1;33m\u001b[0m\u001b[1;33m\u001b[0m\u001b[0m\n\u001b[0;32m      7\u001b[0m \u001b[0mgrid\u001b[0m\u001b[1;33m(\u001b[0m\u001b[1;33m)\u001b[0m\u001b[1;33m\u001b[0m\u001b[1;33m\u001b[0m\u001b[0m\n",
      "\u001b[1;31mNameError\u001b[0m: name 'pendulo' is not defined"
     ]
    },
    {
     "data": {
      "image/png": "[encoded data removed]",
      "text/plain": [
       "<Figure size 432x288 with 1 Axes>"
      ]
     },
     "metadata": {
      "needs_background": "light"
     },
     "output_type": "display_data"
    }
   ],
   "source": [
    "title(\"Espacio Fase\"),xlabel(r\"$\\theta(t)$\"),ylabel(r\"$v_{\\theta}(t)$\")\n",
    "tiempo = arange(0,5*pi,0.05)\n",
    "th_ini_s = arange(0.1,pi-0.1,0.25)\n",
    "for th_ini in th_ini_s:\n",
    "    sol_num = RK_2(pendulo,[th_ini,0],tiempo)\n",
    "    plot(sol_num[:,0],sol_num[:,2])\n",
    "grid()\n",
    "show()"
   ]
  },
  {
   "cell_type": "code",
   "execution_count": 42,
   "metadata": {},
   "outputs": [
    {
     "name": "stderr",
     "output_type": "stream",
     "text": [
      "<ipython-input-40-74818fb7897d>:9: RuntimeWarning: invalid value encountered in double_scalars\n",
      "  dvphi=-2*x[2]*x[3]/tan(x[0])\n"
     ]
    },
    {
     "ename": "RuntimeError",
     "evalue": "The size of the array returned by func (4) does not match the size of y0 (6).",
     "output_type": "error",
     "traceback": [
      "\u001b[1;31m---------------------------------------------------------------------------\u001b[0m",
      "\u001b[1;31mRuntimeError\u001b[0m                              Traceback (most recent call last)",
      "\u001b[1;32m<ipython-input-42-153129ed9212>\u001b[0m in \u001b[0;36m<module>\u001b[1;34m\u001b[0m\n\u001b[0;32m      1\u001b[0m \u001b[0mt\u001b[0m\u001b[1;33m=\u001b[0m\u001b[0mlinspace\u001b[0m\u001b[1;33m(\u001b[0m\u001b[1;36m0\u001b[0m\u001b[1;33m,\u001b[0m\u001b[1;36m4\u001b[0m\u001b[1;33m)\u001b[0m\u001b[1;33m\u001b[0m\u001b[1;33m\u001b[0m\u001b[0m\n\u001b[0;32m      2\u001b[0m \u001b[0mcond_ini\u001b[0m \u001b[1;33m=\u001b[0m \u001b[1;33m[\u001b[0m\u001b[1;36m0\u001b[0m\u001b[1;33m,\u001b[0m\u001b[1;36m0\u001b[0m\u001b[1;33m,\u001b[0m\u001b[1;36m0\u001b[0m\u001b[1;33m,\u001b[0m\u001b[1;36m1\u001b[0m\u001b[1;33m,\u001b[0m\u001b[1;36m2\u001b[0m\u001b[1;33m,\u001b[0m\u001b[1;36m5\u001b[0m\u001b[1;33m]\u001b[0m\u001b[1;33m\u001b[0m\u001b[1;33m\u001b[0m\u001b[0m\n\u001b[1;32m----> 3\u001b[1;33m \u001b[0msol\u001b[0m \u001b[1;33m=\u001b[0m \u001b[0modeint\u001b[0m\u001b[1;33m(\u001b[0m\u001b[0mpendulo_esferico\u001b[0m\u001b[1;33m,\u001b[0m\u001b[0mcond_ini\u001b[0m\u001b[1;33m,\u001b[0m\u001b[0mt\u001b[0m\u001b[1;33m)\u001b[0m\u001b[1;33m\u001b[0m\u001b[1;33m\u001b[0m\u001b[0m\n\u001b[0m\u001b[0;32m      4\u001b[0m \u001b[0mfig\u001b[0m \u001b[1;33m=\u001b[0m \u001b[0mfigure\u001b[0m\u001b[1;33m(\u001b[0m\u001b[0mfigsize\u001b[0m\u001b[1;33m=\u001b[0m\u001b[1;33m(\u001b[0m\u001b[1;36m6\u001b[0m\u001b[1;33m,\u001b[0m\u001b[1;36m6\u001b[0m\u001b[1;33m)\u001b[0m\u001b[1;33m)\u001b[0m\u001b[1;33m\u001b[0m\u001b[1;33m\u001b[0m\u001b[0m\n\u001b[0;32m      5\u001b[0m \u001b[0mgrafica\u001b[0m \u001b[1;33m=\u001b[0m \u001b[0mfig\u001b[0m\u001b[1;33m.\u001b[0m\u001b[0madd_subplot\u001b[0m\u001b[1;33m(\u001b[0m\u001b[1;36m111\u001b[0m\u001b[1;33m,\u001b[0m\u001b[0mprojection\u001b[0m\u001b[1;33m=\u001b[0m\u001b[1;34m'3d'\u001b[0m\u001b[1;33m)\u001b[0m\u001b[1;33m\u001b[0m\u001b[1;33m\u001b[0m\u001b[0m\n",
      "\u001b[1;32m~\\anaconda3\\lib\\site-packages\\scipy\\integrate\\odepack.py\u001b[0m in \u001b[0;36modeint\u001b[1;34m(func, y0, t, args, Dfun, col_deriv, full_output, ml, mu, rtol, atol, tcrit, h0, hmax, hmin, ixpr, mxstep, mxhnil, mxordn, mxords, printmessg, tfirst)\u001b[0m\n\u001b[0;32m    239\u001b[0m     \u001b[0mt\u001b[0m \u001b[1;33m=\u001b[0m \u001b[0mcopy\u001b[0m\u001b[1;33m(\u001b[0m\u001b[0mt\u001b[0m\u001b[1;33m)\u001b[0m\u001b[1;33m\u001b[0m\u001b[1;33m\u001b[0m\u001b[0m\n\u001b[0;32m    240\u001b[0m     \u001b[0my0\u001b[0m \u001b[1;33m=\u001b[0m \u001b[0mcopy\u001b[0m\u001b[1;33m(\u001b[0m\u001b[0my0\u001b[0m\u001b[1;33m)\u001b[0m\u001b[1;33m\u001b[0m\u001b[1;33m\u001b[0m\u001b[0m\n\u001b[1;32m--> 241\u001b[1;33m     output = _odepack.odeint(func, y0, t, args, Dfun, col_deriv, ml, mu,\n\u001b[0m\u001b[0;32m    242\u001b[0m                              \u001b[0mfull_output\u001b[0m\u001b[1;33m,\u001b[0m \u001b[0mrtol\u001b[0m\u001b[1;33m,\u001b[0m \u001b[0matol\u001b[0m\u001b[1;33m,\u001b[0m \u001b[0mtcrit\u001b[0m\u001b[1;33m,\u001b[0m \u001b[0mh0\u001b[0m\u001b[1;33m,\u001b[0m \u001b[0mhmax\u001b[0m\u001b[1;33m,\u001b[0m \u001b[0mhmin\u001b[0m\u001b[1;33m,\u001b[0m\u001b[1;33m\u001b[0m\u001b[1;33m\u001b[0m\u001b[0m\n\u001b[0;32m    243\u001b[0m                              \u001b[0mixpr\u001b[0m\u001b[1;33m,\u001b[0m \u001b[0mmxstep\u001b[0m\u001b[1;33m,\u001b[0m \u001b[0mmxhnil\u001b[0m\u001b[1;33m,\u001b[0m \u001b[0mmxordn\u001b[0m\u001b[1;33m,\u001b[0m \u001b[0mmxords\u001b[0m\u001b[1;33m,\u001b[0m\u001b[1;33m\u001b[0m\u001b[1;33m\u001b[0m\u001b[0m\n",
      "\u001b[1;31mRuntimeError\u001b[0m: The size of the array returned by func (4) does not match the size of y0 (6)."
     ]
    }
   ],
   "source": [
    "t=linspace(0,4)\n",
    "cond_ini = [0,0,0,1,2,5]\n",
    "sol = odeint(pendulo_esferico,cond_ini,t)\n",
    "fig = figure(figsize=(6,6))\n",
    "grafica = fig.add_subplot(111,projection='3d')\n",
    "plot(sol[:,0],sol[:,1],label='Trayectoria')\n",
    "#plot(sol[:,0],sol[:,1],zeros(len(t)),'--',label=r'Trayectoria en $xy$')\n",
    "#plot(sol[:,0],zeros(len(t)),sol[:,2],'--',label=r'Trayectoria en $xz$')\n",
    "#plot(zeros(len(t)),sol[:,1],sol[:,2],'--',label=r'Trayectoria en $yz$')\n",
    "#plot([sol[0,0]],[sol[0,1]],[sol[0,2]],'o',label='Inicio',markersize=10)\n",
    "legend(bbox_to_anchor=(1.05, 1), loc=2, borderaxespad=0.)\n",
    "grafica.set_xlabel('X'),grafica.set_ylabel('Y'),grafica.set_zlabel('Z')\n",
    "show()"
   ]
  },
  {
   "cell_type": "code",
   "execution_count": null,
   "metadata": {},
   "outputs": [],
   "source": []
  }
 ],
 "metadata": {
  "kernelspec": {
   "display_name": "Python 3",
   "language": "python",
   "name": "python3"
  },
  "language_info": {
   "codemirror_mode": {
    "name": "ipython",
    "version": 3
   },
   "file_extension": ".py",
   "mimetype": "text/x-python",
   "name": "python",
   "nbconvert_exporter": "python",
   "pygments_lexer": "ipython3",
   "version": "3.8.3"
  }
 },
 "nbformat": 4,
 "nbformat_minor": 4
}
