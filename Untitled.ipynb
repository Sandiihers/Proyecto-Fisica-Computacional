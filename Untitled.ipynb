{
 "cells": [
  {
   "cell_type": "code",
   "execution_count": 1,
   "metadata": {},
   "outputs": [
    {
     "name": "stderr",
     "output_type": "stream",
     "text": [
      "┌ Info: Precompiling DifferentialEquations [0c46a032-eb83-5123-abaf-570d42b7fbaa]\n",
      "└ @ Base loading.jl:1192\n",
      "WARNING: Compat.TypeUtils is deprecated, call the respective Base functions directly\n",
      "  likely near C:\\Users\\x\\.julia\\packages\\DifferentialEquations\\UZIcy\\src\\DifferentialEquations.jl:7\n",
      "WARNING: Compat.TypeUtils is deprecated, call the respective Base functions directly\n",
      "  likely near C:\\Users\\x\\.julia\\packages\\SteadyStateDiffEq\\q0UMK\\src\\SteadyStateDiffEq.jl:4\n",
      "┌ Warning: The call to compilecache failed to create a usable precompiled cache file for NLSolversBase [d41bc354-129a-5804-8e4c-c37616107c6c]\n",
      "│   exception = Required dependency CommonSubexpressions [bbf7d656-a473-5ed7-a52c-81e309532950] failed to load from a cache file.\n",
      "└ @ Base loading.jl:969\n",
      "┌ Warning: Replacing module `CommonSubexpressions`\n",
      "└ @ Base loading.jl:878\n",
      "┌ Warning: Module NLSolversBase with build ID 4355144007610 is missing from the cache.\n",
      "│ This may mean NLSolversBase [d41bc354-129a-5804-8e4c-c37616107c6c] does not support precompilation but is imported by a module that does.\n",
      "└ @ Base loading.jl:947\n",
      "┌ Warning: The call to compilecache failed to create a usable precompiled cache file for NLsolve [2774e3e8-f4cf-5e23-947b-6d7e65073b56]\n",
      "│   exception = Required dependency CommonSubexpressions [bbf7d656-a473-5ed7-a52c-81e309532950] failed to load from a cache file.\n",
      "└ @ Base loading.jl:969\n",
      "┌ Warning: Module NLSolversBase with build ID 4396207068200 is missing from the cache.\n",
      "│ This may mean NLSolversBase [d41bc354-129a-5804-8e4c-c37616107c6c] does not support precompilation but is imported by a module that does.\n",
      "└ @ Base loading.jl:947\n",
      "WARNING: Compat.TypeUtils is deprecated, call the respective Base functions directly\n",
      "  likely near C:\\Users\\x\\.julia\\packages\\DiffEqCallbacks\\fLXlT\\src\\DiffEqCallbacks.jl:5\n",
      "WARNING: Compat.TypeUtils is deprecated, call the respective Base functions directly\n",
      "  likely near C:\\Users\\x\\.julia\\packages\\OrdinaryDiffEq\\miOSH\\src\\OrdinaryDiffEq.jl:4\n",
      "WARNING: Compat.TypeUtils is deprecated, call the respective Base functions directly\n",
      "  likely near C:\\Users\\x\\.julia\\packages\\DiffEqOperators\\YrhHv\\src\\DiffEqOperators.jl:4\n",
      "Cannot write cache file \"C:\\Users\\x\\.julia\\compiled\\v1.0\\DiffEqOperators\\Vx3Cs.ji\".\n",
      "ERROR: LoadError: Failed to precompile DiffEqOperators [9fdde737-9c7f-55bf-ade8-46b3f136cc48] to C:\\Users\\x\\.julia\\compiled\\v1.0\\DiffEqOperators\\Vx3Cs.ji.\n",
      "Stacktrace:\n",
      " [1] error(::String) at .\\error.jl:33\n",
      " [2] compilecache(::Base.PkgId, ::String) at .\\loading.jl:1203\n",
      " [3] _require(::Base.PkgId) at .\\loading.jl:960\n",
      " [4] require(::Base.PkgId) at .\\loading.jl:858\n",
      " [5] require(::Module, ::Symbol) at .\\loading.jl:853\n",
      " [6] include at .\\boot.jl:317 [inlined]\n",
      " [7] include_relative(::Module, ::String) at .\\loading.jl:1044\n",
      " [8] include(::Module, ::String) at .\\sysimg.jl:29\n",
      " [9] top-level scope at none:2\n",
      " [10] eval at .\\boot.jl:319 [inlined]\n",
      " [11] eval(::Expr) at .\\client.jl:393\n",
      " [12] top-level scope at .\\none:3\n",
      "in expression starting at C:\\Users\\x\\.julia\\packages\\OrdinaryDiffEq\\miOSH\\src\\OrdinaryDiffEq.jl:18\n",
      "ERROR: LoadError: Failed to precompile OrdinaryDiffEq [1dea7af3-3e70-54e6-95c3-0bf5283fa5ed] to C:\\Users\\x\\.julia\\compiled\\v1.0\\OrdinaryDiffEq\\DlSvy.ji.\n",
      "Stacktrace:\n",
      " [1] error(::String) at .\\error.jl:33\n",
      " [2] compilecache(::Base.PkgId, ::String) at .\\loading.jl:1203\n",
      " [3] _require(::Base.PkgId) at .\\loading.jl:960\n",
      " [4] require(::Base.PkgId) at .\\loading.jl:858\n",
      " [5] require(::Module, ::Symbol) at .\\loading.jl:853\n",
      " [6] include at .\\boot.jl:317 [inlined]\n",
      " [7] include_relative(::Module, ::String) at .\\loading.jl:1044\n",
      " [8] include(::Module, ::String) at .\\sysimg.jl:29\n",
      " [9] top-level scope at none:2\n",
      " [10] eval at .\\boot.jl:319 [inlined]\n",
      " [11] eval(::Expr) at .\\client.jl:393\n",
      " [12] top-level scope at .\\none:3\n",
      "in expression starting at C:\\Users\\x\\.julia\\packages\\DiffEqCallbacks\\fLXlT\\src\\DiffEqCallbacks.jl:9\n",
      "ERROR: LoadError: Failed to precompile DiffEqCallbacks [459566f4-90b8-5000-8ac3-15dfb0a30def] to C:\\Users\\x\\.julia\\compiled\\v1.0\\DiffEqCallbacks\\TKs5l.ji.\n",
      "Stacktrace:\n",
      " [1] error(::String) at .\\error.jl:33\n",
      " [2] compilecache(::Base.PkgId, ::String) at .\\loading.jl:1203\n",
      " [3] _require(::Base.PkgId) at .\\loading.jl:960\n",
      " [4] require(::Base.PkgId) at .\\loading.jl:858\n",
      " [5] require(::Module, ::Symbol) at .\\loading.jl:853\n",
      " [6] include at .\\boot.jl:317 [inlined]\n",
      " [7] include_relative(::Module, ::String) at .\\loading.jl:1044\n",
      " [8] include(::Module, ::String) at .\\sysimg.jl:29\n",
      " [9] top-level scope at none:2\n",
      " [10] eval at .\\boot.jl:319 [inlined]\n",
      " [11] eval(::Expr) at .\\client.jl:393\n",
      " [12] top-level scope at .\\none:3\n",
      "in expression starting at C:\\Users\\x\\.julia\\packages\\SteadyStateDiffEq\\q0UMK\\src\\SteadyStateDiffEq.jl:6\n",
      "ERROR: LoadError: Failed to precompile SteadyStateDiffEq [9672c7b4-1e72-59bd-8a11-6ac3964bc41f] to C:\\Users\\x\\.julia\\compiled\\v1.0\\SteadyStateDiffEq\\lsCSw.ji.\n",
      "Stacktrace:\n",
      " [1] error(::String) at .\\error.jl:33\n",
      " [2] compilecache(::Base.PkgId, ::String) at .\\loading.jl:1203\n",
      " [3] _require(::Base.PkgId) at .\\loading.jl:960\n",
      " [4] require(::Base.PkgId) at .\\loading.jl:858\n",
      " [5] require(::Module, ::Symbol) at .\\loading.jl:853\n",
      " [6] include at .\\boot.jl:317 [inlined]\n",
      " [7] include_relative(::Module, ::String) at .\\loading.jl:1044\n",
      " [8] include(::Module, ::String) at .\\sysimg.jl:29\n",
      " [9] top-level scope at none:2\n",
      " [10] eval at .\\boot.jl:319 [inlined]\n",
      " [11] eval(::Expr) at .\\client.jl:393\n",
      " [12] top-level scope at .\\none:3\n",
      "in expression starting at C:\\Users\\x\\.julia\\packages\\DifferentialEquations\\UZIcy\\src\\DifferentialEquations.jl:11\n"
     ]
    },
    {
     "ename": "ErrorException",
     "evalue": "Failed to precompile DifferentialEquations [0c46a032-eb83-5123-abaf-570d42b7fbaa] to C:\\Users\\x\\.julia\\compiled\\v1.0\\DifferentialEquations\\UQdwS.ji.",
     "output_type": "error",
     "traceback": [
      "Failed to precompile DifferentialEquations [0c46a032-eb83-5123-abaf-570d42b7fbaa] to C:\\Users\\x\\.julia\\compiled\\v1.0\\DifferentialEquations\\UQdwS.ji.",
      "",
      "Stacktrace:",
      " [1] error(::String) at .\\error.jl:33",
      " [2] compilecache(::Base.PkgId, ::String) at .\\loading.jl:1203",
      " [3] _require(::Base.PkgId) at .\\loading.jl:960",
      " [4] require(::Base.PkgId) at .\\loading.jl:858",
      " [5] require(::Module, ::Symbol) at .\\loading.jl:853",
      " [6] top-level scope at In[1]:4"
     ]
    }
   ],
   "source": [
    "#using Plots\n",
    "using DataFrames\n",
    "using LaTeXStrings\n",
    "using DifferentialEquations\n",
    "using BenchmarkTools"
   ]
  },
  {
   "cell_type": "code",
   "execution_count": null,
   "metadata": {},
   "outputs": [],
   "source": [
    "#import Pkg\n",
    "#Pkg.add(\"Plots\")"
   ]
  },
  {
   "cell_type": "markdown",
   "metadata": {},
   "source": [
    "Entonces obtenemos el siguiente sistema de ecuaciones:\n",
    "\n",
    "$\\frac{d}{dt}\\dot{\\theta}=\\dot{\\varphi}^2cos\\theta sin\\theta-\\frac{g}{l}sin\\theta$\n",
    "\n",
    "$\\frac{d}{dt}\\dot{\\varphi}=-2\\dot{\\theta}\\dot{\\varphi}cot\\theta$"
   ]
  },
  {
   "cell_type": "markdown",
   "metadata": {},
   "source": [
    "$$\n",
    "\\frac{d\\theta}{dt}=v_{\\theta}\n",
    "$$\n",
    "\n",
    "$$\n",
    "\\frac{d\\varphi}{dt}=v_{\\varphi}\n",
    "$$\n",
    "\n",
    "$$\n",
    "\\frac{dv_{\\theta}}{dt}=v_{\\varphi}^2cos\\theta sin\\theta-\\frac{g}{l}sin\\theta\n",
    "$$\n",
    "\n",
    "$$\n",
    "\\frac{dv_{\\varphi}}{dt}=-2v_{\\theta}v_{\\varphi}cot\\theta\n",
    "$$"
   ]
  },
  {
   "cell_type": "code",
   "execution_count": 8,
   "metadata": {},
   "outputs": [
    {
     "data": {
      "text/plain": [
       "pendulo_esferico (generic function with 1 method)"
      ]
     },
     "execution_count": 8,
     "metadata": {},
     "output_type": "execute_result"
    }
   ],
   "source": [
    "function pendulo_esferico(x,t)\n",
    "    #𝜃 , 𝜑 ,v𝜃 ,v𝜑,\n",
    "    #1 , 2 , 3 , 4\n",
    "    l=1\n",
    "    g=9.8\n",
    "    v𝜃=x[3]\n",
    "    v𝜑=x[4]\n",
    "    dv𝜃=x[4]^2*cos(x[1])*sin(x[1])-(g/l)*sin(x[1])\n",
    "    dv𝜑=-2*x[3]*x[4]*(1/tan(x[1]))\n",
    "    return [v𝜃,v𝜑,dv𝜃,dv𝜑]\n",
    "end"
   ]
  },
  {
   "cell_type": "code",
   "execution_count": 9,
   "metadata": {},
   "outputs": [
    {
     "data": {
      "text/plain": [
       "RK_4 (generic function with 1 method)"
      ]
     },
     "execution_count": 9,
     "metadata": {},
     "output_type": "execute_result"
    }
   ],
   "source": [
    "function RK_2(edo,x_ini,t)\n",
    "    sol = zeros( length(t) , length(x_ini) )\n",
    "    sol[1,:] .= x_ini\n",
    "    δ = t[2]-t[1]\n",
    "    for i in 1:length(t)-1\n",
    "        k1 = sol[i,:] .+ 0.5*δ .*edo(sol[i,:],t[i])\n",
    "        sol[i+1,:] .= sol[i,:] .+ δ*edo(k1,t[i]+0.5*δ)\n",
    "    end\n",
    "    return sol\n",
    "end\n",
    "\n",
    "function RK_4(edo,x_ini,t)\n",
    "    sol = zeros( length(t) , length(x_ini) )\n",
    "    sol[1,:] .= x_ini\n",
    "    δ = t[2]-t[1]\n",
    "    for i in 1:length(t)-1\n",
    "        k1 = edo(sol[i,:],t[i])\n",
    "        k2 = edo(sol[i,:] .+ 0.5*δ.*k1 , t[i] + 0.5*δ)\n",
    "        k3 = edo(sol[i,:] .+ 0.5*δ.*k2 , t[i] + 0.5*δ)\n",
    "        k4 = edo(sol[i,:] .+ δ.*k2 , t[i] + δ)\n",
    "        sol[i+1,:] .= sol[i,:] .+ (δ/6.0).*(k1 .+ 2.0.*k2 .+ 2.0.*k3 .+ k4)\n",
    "    end\n",
    "    return sol\n",
    "end"
   ]
  },
  {
   "cell_type": "code",
   "execution_count": 11,
   "metadata": {},
   "outputs": [
    {
     "ename": "UndefVarError",
     "evalue": "UndefVarError: ODEProblem not defined",
     "output_type": "error",
     "traceback": [
      "UndefVarError: ODEProblem not defined",
      "",
      "Stacktrace:",
      " [1] top-level scope at In[11]:3"
     ]
    }
   ],
   "source": [
    "p_ini = [1.0,0.0,0.0,0.0] # punto inicial \n",
    "t = (0.0,2π) # intervalo de integración\n",
    "prob = ODEProblem(pendulo_DE,p_ini,t) # generacion del problema EDO\n",
    "sol_DE = solve(prob) # generar la solucion del problema\n",
    "tiempo = collect(range(0,stop=2π,length=length(sol_DE[1,:])))\n",
    "sol_RK2 = RK_2(pendulo_esferico,p_ini,tiempo)\n",
    "sol_RK4 = RK_4(pendulo_esferico,p_ini,tiempo)"
   ]
  },
  {
   "cell_type": "code",
   "execution_count": 6,
   "metadata": {},
   "outputs": [
    {
     "ename": "UndefVarError",
     "evalue": "UndefVarError: figure not defined",
     "output_type": "error",
     "traceback": [
      "UndefVarError: figure not defined",
      "",
      "Stacktrace:",
      " [1] top-level scope at In[6]:1"
     ]
    }
   ],
   "source": []
  },
  {
   "cell_type": "code",
   "execution_count": null,
   "metadata": {},
   "outputs": [],
   "source": []
  }
 ],
 "metadata": {
  "kernelspec": {
   "display_name": "Julia 1.0.5",
   "language": "julia",
   "name": "julia-1.0"
  },
  "language_info": {
   "file_extension": ".jl",
   "mimetype": "application/julia",
   "name": "julia",
   "version": "1.0.5"
  }
 },
 "nbformat": 4,
 "nbformat_minor": 4
}
